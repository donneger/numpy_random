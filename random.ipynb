{
 "cells": [
  {
   "cell_type": "markdown",
   "id": "5915888b-cd67-4c9f-b239-2fcfba822909",
   "metadata": {},
   "source": [
    "# An Exploration of the numpy.random package in Python\n",
    "## Submission Assignment for Programming for Data Analysis\n",
    "#### Gerry Donnelly November 2021"
   ]
  },
  {
   "cell_type": "markdown",
   "id": "c1cd9d45-44e8-4f77-a3bd-6de9e2989006",
   "metadata": {},
   "source": [
    "The purpose of this assignment is to explore the numpy.random package in Python. This exploration will address the following areas:\n",
    "1. Explain the overall purpose of the package. \n",
    "2. Explain the use of the “Simple random data” and “Permutations” functions. \n",
    "3. Explain the use and purpose of at least five “Distributions” functions. \n",
    "4. Explain the use of seeds in generating pseudorandom numbers."
   ]
  },
  {
   "cell_type": "markdown",
   "id": "947e4b2c-ba84-4d94-88ed-72844160d1cd",
   "metadata": {},
   "source": [
    "### Section 1 - Overall Purpose of the numpy.random package."
   ]
  },
  {
   "cell_type": "markdown",
   "id": "dfa16c54-5e84-403d-9c46-260f196214c8",
   "metadata": {},
   "source": [
    "#### What is a random number\n",
    "*https://mathworld.wolfram.com/RandomNumber.html*\n",
    "\n",
    "A random number is a number chosen as if by chance from some specified distribution such that selection of a large set of these numbers reproduces the underlying distribution. Almost always, such numbers are also required to be independent, so that there are no correlations between successive numbers. \n",
    "\n",
    "#### What is a pseudorandom number\n",
    "\n",
    "A sequence of numbers satisfying one or more statistical tests for randomness but produced by a definite mathematical procedure. Pseudorandom means it's produced by an algorithm that generates a series of bits that appear unpredictable, but in fact are computed from an algorithm.\n",
    "\n",
    "#### What is difference between both. \n",
    "\n",
    "It is very difficult to produce true randomness. Computers are by definition deterministic, i.e. they are designed to have predetermined outputs so various techniques, both hardware and software are used to produce pseudorandom numbers. \n",
    "\n",
    "#### Why are they important.\n",
    "\n",
    "Random number generation is very important in the areas of cryptography, science, ganbling, statistics.  \n",
    "- random numbers in computing.\n",
    "\n",
    "*https://www.howtogeek.com/183051/htg-explains-how-computers-generate-random-numbers/*\n",
    "\n",
    "Computers typically use an algorithim or program with some seed value to generate numbers that appear random but in fact are not truly random, i.e. pseudo random numbers. \n",
    "\n",
    "### Random numbers in data analysis\n",
    "\n",
    "#### What is numpy\n",
    "\n",
    "*https://numpy.org/doc/stable/user/whatisnumpy.html*\n",
    "\n",
    "Numpy is the primary Python package for working with arrays and matrices and provides significantly faster (x50) manipulation of these than using Python lists. Numpy is designed to store its arrays in continuous memory so programs and processes can be carried out very efficiently. \n",
    "NumPy is an array object of type ***ndarray*** . Numpy creates n-dimensional arrays of homogeneous data types, usually numnbers but can be strings, with the dimensions of the array called ***axes.***\n",
    "\n",
    "#### What is numpy.random\n",
    "\n",
    "*https://numpy.org/doc/stable/reference/random/index.html*\n",
    "\n",
    "As stated above computers are designed to be deterministic, i.e. they produce fixed and repeatable outputs so the generation of random numbers is programatically produced using algorithims to create pseudorandon numbers, i.e. to give the appearance of randomness. In general these numbers are sufficient for most tasks in analytics with true randon mumbers generally needed for security, for example encryption keys. \n",
    "\n",
    "Numpys random numbers are produced by a combination of a BitGenerator to create random number sequences and a Generator to sample from these numbers using statistical distributions, e.g. Normal, Binomial, Poisson.  These distributions will be described in section 3 of the assignment. "
   ]
  },
  {
   "cell_type": "markdown",
   "id": "1987b59b-555c-42a9-8c79-5b9a436f5f5c",
   "metadata": {},
   "source": [
    "### Section 2 - Description and Use of Simple Random Data and Permutations Functions\n",
    "#### 2.1 Simple Random Data\n",
    "***"
   ]
  },
  {
   "cell_type": "code",
   "execution_count": 1,
   "id": "1d7788f2-18ef-46f1-9761-18838ebda8e1",
   "metadata": {},
   "outputs": [],
   "source": [
    "# Numpy.random is initiiated as follows, import the random package. \n",
    "import numpy as np\n",
    "from numpy import random"
   ]
  },
  {
   "cell_type": "markdown",
   "id": "caa4a4ae-a626-4545-823e-f7f64213f0f6",
   "metadata": {},
   "source": [
    "Below are some simple examples of random number generation using **rand**. \n",
    "\n",
    "*[Link here to **numpy.random.rand**](https://numpy.org/doc/stable/reference/random/generated/numpy.random.rand.html)*\n",
    "\n",
    "Ex.1 This generates an array of positive random floating point numbers in the range 0 to 1, e.g. the code below  produces 6 random floats in a single array.<br>\n",
    "Ex.2 This code generates a simple 6x3 array, i.e. 6 sets of 3 random floats.  "
   ]
  },
  {
   "cell_type": "code",
   "execution_count": 2,
   "id": "dd81b1ec-7235-494a-b6f1-f6816a467881",
   "metadata": {},
   "outputs": [
    {
     "name": "stdout",
     "output_type": "stream",
     "text": [
      "This is a single array:\n",
      " [0.34996862 0.70713221 0.68495275 0.57722962 0.76691335 0.73389119]\n"
     ]
    }
   ],
   "source": [
    "# Ex.1 Use of rand to produce 6 random numbers in the range 0 to 1.\n",
    "x = random.rand(6)\n",
    "print('This is a single array:\\n',x)"
   ]
  },
  {
   "cell_type": "code",
   "execution_count": 3,
   "id": "ebb994d0-b395-4825-8401-22f1db702a45",
   "metadata": {},
   "outputs": [
    {
     "name": "stdout",
     "output_type": "stream",
     "text": [
      "This is a 6x3 array:\n",
      " [[0.25498846 0.82105227 0.57778212]\n",
      " [0.57498965 0.85251784 0.65413592]\n",
      " [0.08228261 0.6275207  0.67604382]\n",
      " [0.00260705 0.94357593 0.95210027]\n",
      " [0.75438111 0.49516785 0.7029295 ]\n",
      " [0.14729928 0.2341213  0.03184908]]\n"
     ]
    }
   ],
   "source": [
    "# Ex.2 rand also generates multi-dimensional arrays by specifying the optional array parameter, e.g. below produces 6 rows of 3 floats per row, a (6x3 array).\n",
    "x = random.rand(6,3)\n",
    "print('This is a 6x3 array:\\n',x)"
   ]
  },
  {
   "cell_type": "markdown",
   "id": "e879bf94-c965-42be-a61a-5a4a15d5e36a",
   "metadata": {},
   "source": [
    "Below are further examples of random number generation using **randint**. This produces random integers, you can specify the range and the number of integers you want in the output. \n",
    "\n",
    "*[Link here to **numpy.random.randint**](https://numpy.org/doc/stable/reference/random/generated/numpy.random.randint.html)*\n",
    "\n",
    "Ex.1 This generates an array of 10 positive random integers in the range 0 to 7. (note when specifying a range from x to y the output will produce numbers in the range x to y-1).<br>\n",
    "Ex.2 This code generates a simple 2d array of  i.e. 6 sets of 3 random floats.  "
   ]
  },
  {
   "cell_type": "code",
   "execution_count": 4,
   "id": "5c7bbb6f-67bb-4b70-82e5-d409fadc8a7b",
   "metadata": {},
   "outputs": [
    {
     "name": "stdout",
     "output_type": "stream",
     "text": [
      "This is a single array of random integers:\n",
      " [6 3 5 3 0 1 1 6 1 3]\n"
     ]
    }
   ],
   "source": [
    "# Ex. 1 randint produces random integers from the uniform distribution, e.g. below produces a single array of 10 random numbers from the range 1 - 6, could be used to simulate dice throws. \n",
    "rint = np.random.randint(0,7,size=(10))\n",
    "print('This is a single array of random integers:\\n',rint)"
   ]
  },
  {
   "cell_type": "code",
   "execution_count": 5,
   "id": "1c485fd9-4873-439f-81c2-64d4182dd7ef",
   "metadata": {},
   "outputs": [
    {
     "name": "stdout",
     "output_type": "stream",
     "text": [
      "This is a 2D array of 3 rows of 10 random integers:\n",
      " [[5 6 5 1 6 1 4 3 2 6]\n",
      " [3 3 5 1 3 1 6 5 1 4]\n",
      " [3 4 2 1 2 5 2 6 4 1]]\n"
     ]
    }
   ],
   "source": [
    "# Ex.2 randint can also produce 2D arrays, e.g. below produces a 2D array of 3 rows with 10 random numbers in each row from the range 1 - 6, could be used to simulate dice throws. \n",
    "rint1 = np.random.randint(1,7,size=(3,10))\n",
    "print('This is a 2D array of 3 rows of 10 random integers:\\n',rint1)"
   ]
  },
  {
   "cell_type": "markdown",
   "id": "7db2fe1c-73c9-4bc7-8ec2-f6f961b8af21",
   "metadata": {},
   "source": [
    "Using the random choice() method allows for a random selection from a 1D array. \n",
    "\n",
    "*[Link here to **numpy.random.choice**](https://numpy.org/doc/stable/reference/random/generated/numpy.random.choice.html)*\n",
    "\n",
    "In the example below using an array of strings to demonstrate that strings as well as numbers can be used in the arrays."
   ]
  },
  {
   "cell_type": "code",
   "execution_count": 6,
   "id": "c6d39b07-8b3d-4b07-b49f-3ad44bb61a2b",
   "metadata": {},
   "outputs": [
    {
     "name": "stdout",
     "output_type": "stream",
     "text": [
      "This is a random 3x5 array from an array of strings:\n",
      " [['method' 'assignment' 'choice' 'numpy' 'numpy']\n",
      " ['random' 'choice' 'assignment' 'numpy' 'assignment']\n",
      " ['method' 'method' 'assignment' 'choice' 'numpy']\n",
      " ['random' 'choice' 'random' 'assignment' 'method']\n",
      " ['assignment' 'numpy' 'assignment' 'numpy' 'numpy']]\n"
     ]
    }
   ],
   "source": [
    "# Demonstrating that strings can be used to produce random outputs. \n",
    "rchstr = (\"numpy\",\"random\", \"assignment\", \"choice\", \"method\")\n",
    "print('This is a random 3x5 array from an array of strings:\\n',np.random.choice(rchstr, size=(5,5)))"
   ]
  },
  {
   "cell_type": "code",
   "execution_count": 7,
   "id": "9542dc3d-decd-46e0-bb9a-d749551d4d9a",
   "metadata": {},
   "outputs": [
    {
     "name": "stdout",
     "output_type": "stream",
     "text": [
      "This is a random 3x5 array of integers from an array of numbers:\n",
      " [[1 4 4 5 3]\n",
      " [1 5 2 4 4]\n",
      " [4 2 5 5 2]]\n"
     ]
    }
   ],
   "source": [
    "#Using the random choice() method allows for a random selction from that a 3 x 5 array. array.\n",
    "rchint = (1,2,3,4,5,6)\n",
    "print('This is a random 3x5 array of integers from an array of numbers:\\n',np.random.choice(rchint, size=(3,5)))"
   ]
  },
  {
   "cell_type": "markdown",
   "id": "f6bc69d8-b50b-4d9b-a118-f077edb87ca2",
   "metadata": {},
   "source": [
    "#### 2.2 Permutations\n",
    "***"
   ]
  },
  {
   "cell_type": "markdown",
   "id": "62e6c5a1-92e9-43a0-ace2-215d2224ac8e",
   "metadata": {},
   "source": [
    "A permutation refers to how elements in an array are arranged and numpy provides 2 methods, **shuffle()** and **permutation()**.\n",
    "\n",
    "Shuffle\n",
    "\n",
    "1. [Link to **numpy.random.shuffle**](https://numpy.org/doc/stable/reference/random/generated/numpy.random.shuffle.html)<br>\n",
    "The random.shuffle() function modifies the sequence of elements in an array.<br> \n",
    "The examples below demonstrate this. Note that the shuffle function only resequences the array in the first axis of a multidimensional array, i.e. it will shuffle the sequence of the arrays but not their contents."
   ]
  },
  {
   "cell_type": "code",
   "execution_count": 8,
   "id": "0c8540de-7ae1-4483-b294-003bb88d3b7d",
   "metadata": {},
   "outputs": [
    {
     "data": {
      "text/plain": [
       "array([0, 1, 2, 3, 4, 5, 6, 7, 8, 9])"
      ]
     },
     "execution_count": 8,
     "metadata": {},
     "output_type": "execute_result"
    }
   ],
   "source": [
    "# Generate a simple array of 10 integers. Note the  array is in numerical sequence.\n",
    "arr1 = np.arange(10)\n",
    "arr1"
   ]
  },
  {
   "cell_type": "code",
   "execution_count": 9,
   "id": "b4c03163-718d-4aa3-a801-486c72d6a18b",
   "metadata": {},
   "outputs": [
    {
     "data": {
      "text/plain": [
       "array([4, 8, 3, 1, 5, 2, 7, 0, 9, 6])"
      ]
     },
     "execution_count": 9,
     "metadata": {},
     "output_type": "execute_result"
    }
   ],
   "source": [
    "# Now shuffle the array, contents remain the same but the sequence is randomly shuffled. \n",
    "np.random.shuffle(arr1)\n",
    "arr1"
   ]
  },
  {
   "cell_type": "code",
   "execution_count": 10,
   "id": "eea679b1-a966-4dc8-8b15-701e04e130e2",
   "metadata": {},
   "outputs": [
    {
     "data": {
      "text/plain": [
       "array([[ 0,  1,  2],\n",
       "       [ 3,  4,  5],\n",
       "       [ 6,  7,  8],\n",
       "       [ 9, 10, 11],\n",
       "       [12, 13, 14],\n",
       "       [15, 16, 17]])"
      ]
     },
     "execution_count": 10,
     "metadata": {},
     "output_type": "execute_result"
    }
   ],
   "source": [
    "# In a multidimensional array the array levels are shuffled and not the individual integers in each dimension.\n",
    "# Generate a 6x3 array, note all in sequence.\n",
    "arr2 = np.arange(18).reshape((6,3))\n",
    "arr2"
   ]
  },
  {
   "cell_type": "code",
   "execution_count": 11,
   "id": "b7f7fff8-51c0-4e74-9b04-db811cd7be9d",
   "metadata": {},
   "outputs": [
    {
     "data": {
      "text/plain": [
       "array([[ 3,  4,  5],\n",
       "       [15, 16, 17],\n",
       "       [ 9, 10, 11],\n",
       "       [ 0,  1,  2],\n",
       "       [ 6,  7,  8],\n",
       "       [12, 13, 14]])"
      ]
     },
     "execution_count": 11,
     "metadata": {},
     "output_type": "execute_result"
    }
   ],
   "source": [
    "#Shuffle the array, note only the sequence of the sub arrays is shuffled and not the integers in each of the arrays. \n",
    "np.random.shuffle(arr2)\n",
    "arr2"
   ]
  },
  {
   "cell_type": "code",
   "execution_count": null,
   "id": "7218b28e-8efd-4dc5-be1d-ca5f7b68baee",
   "metadata": {},
   "outputs": [],
   "source": []
  },
  {
   "cell_type": "markdown",
   "id": "23137c3a-10ce-4282-ba5d-83cb5463de5d",
   "metadata": {},
   "source": [
    "Permutations\n",
    "\n",
    "2. [Link to **numpy.random.permutation**](https://numpy.org/doc/stable/reference/random/generated/numpy.random.permutation.html)<br>\n",
    "Like the shuffle function the permutation function rearranges the elements of an array, along one axis only. The difference between this and the shuffle method is that the permutation leaves the original array unchanged and shuffles a copy of the array whereas shuffle changes the original array."
   ]
  },
  {
   "cell_type": "code",
   "execution_count": 12,
   "id": "a6b45f56-f4ef-4531-90d1-5ebc6a9abafc",
   "metadata": {},
   "outputs": [],
   "source": [
    "# Generate a 1D array and run the permutation method.\n",
    "arr3 = np.arange(20)"
   ]
  },
  {
   "cell_type": "code",
   "execution_count": 13,
   "id": "cb03481f-3a5c-49fa-ba48-77cf30c7e1c4",
   "metadata": {},
   "outputs": [
    {
     "data": {
      "text/plain": [
       "array([11, 12,  8,  5, 14, 10, 18, 15,  3, 19, 13,  7,  0,  6, 16,  1,  9,\n",
       "        4, 17,  2])"
      ]
     },
     "execution_count": 13,
     "metadata": {},
     "output_type": "execute_result"
    }
   ],
   "source": [
    "random.permutation((arr3))"
   ]
  },
  {
   "cell_type": "code",
   "execution_count": 14,
   "id": "aef121cf-571c-434e-9a60-f2890e614655",
   "metadata": {},
   "outputs": [
    {
     "data": {
      "text/plain": [
       "array([[ 0,  1,  2,  3,  4],\n",
       "       [ 5,  6,  7,  8,  9],\n",
       "       [10, 11, 12, 13, 14],\n",
       "       [15, 16, 17, 18, 19],\n",
       "       [20, 21, 22, 23, 24]])"
      ]
     },
     "execution_count": 14,
     "metadata": {},
     "output_type": "execute_result"
    }
   ],
   "source": [
    "# Generate a 5 x 5 array and run the permutation method\n",
    "arr4 = np.arange(25).reshape((5,5))\n",
    "arr4"
   ]
  },
  {
   "cell_type": "code",
   "execution_count": 15,
   "id": "cb34d579-9dde-460c-b342-ab2b58228469",
   "metadata": {},
   "outputs": [
    {
     "data": {
      "text/plain": [
       "array([[ 0,  1,  2,  3,  4],\n",
       "       [ 5,  6,  7,  8,  9],\n",
       "       [20, 21, 22, 23, 24],\n",
       "       [15, 16, 17, 18, 19],\n",
       "       [10, 11, 12, 13, 14]])"
      ]
     },
     "execution_count": 15,
     "metadata": {},
     "output_type": "execute_result"
    }
   ],
   "source": [
    "# Like shuffle the permutation method only works on one axis, the subarrays are changed but not the integers in each one.\n",
    "np.random.permutation(arr4)"
   ]
  },
  {
   "cell_type": "code",
   "execution_count": 16,
   "id": "0a843d5a-a659-4bbc-9fb3-a848e44bab8f",
   "metadata": {},
   "outputs": [
    {
     "data": {
      "text/plain": [
       "array([[ 0,  1,  2,  3,  4],\n",
       "       [ 5,  6,  7,  8,  9],\n",
       "       [10, 11, 12, 13, 14],\n",
       "       [15, 16, 17, 18, 19],\n",
       "       [20, 21, 22, 23, 24]])"
      ]
     },
     "execution_count": 16,
     "metadata": {},
     "output_type": "execute_result"
    }
   ],
   "source": [
    "# Note the original array, arr4 is unchanged. \n",
    "arr4"
   ]
  },
  {
   "cell_type": "code",
   "execution_count": null,
   "id": "013d0036-04ef-45c8-b1c3-3f65c5699a53",
   "metadata": {},
   "outputs": [],
   "source": []
  },
  {
   "cell_type": "markdown",
   "id": "d02ce87b-3f2c-4a18-9cb1-d4e23ab77676",
   "metadata": {},
   "source": [
    "### Section 3 - Exploration of Probability Distribution functions.\n",
    "\n",
    "https://www.investopedia.com/terms/p/probabilitydistribution.asp<br>\n",
    "https://www.analyticsvidhya.com/blog/2017/09/6-probability-distributions-data-science/<br>\n",
    "https://www.datacamp.com/community/tutorials/probability-distributions-python<br>\n",
    "https://www.thoughtco.com/uniform-distribution-3126573<br>\n",
    "\n",
    "Statistics and Probability are core elements of Data Science and are an essential part of data analysis. Machine learning and artificial learning make extensive use of distributions. At its most basic a probability distribution is a function that describes all of the possible values and probabilities that some random variable can have in a given range. \n",
    "\n",
    "In terms of random variables data can be either continuous or discrete.\n",
    "\n",
    "- Continuous Data<br>\n",
    "Continuous data is data that can take any value in a range. For example the ages, heights, weights of all the individuals in a school. \n",
    "\n",
    "- Discrete Data<br>\n",
    "Discrete data is data that can only have specic values or outcomes, simplest example being when you roll a dice you can only get one of 6 values and the probablity of getting any one value is 1/6.\n",
    "\n",
    "Probability Distrinutions<br>\n",
    "For this section I have selected the following distributions for review:\n",
    "\n",
    "- Normal\n",
    "- Uniform\n",
    "- Binomial\n",
    "- Poisson\n",
    "- Pareto\n",
    "- Exponential\n"
   ]
  },
  {
   "cell_type": "code",
   "execution_count": 17,
   "id": "a522eb3e-2113-432e-b76f-f426ca9b55fe",
   "metadata": {},
   "outputs": [],
   "source": [
    "# For this section I am using the seaborn library for plotting examples of the distributions. \n",
    "import matplotlib.pyplot as plt\n",
    "import seaborn as sns\n",
    "from scipy.stats import norm"
   ]
  },
  {
   "cell_type": "markdown",
   "id": "400f5717-e917-4858-aeb5-db94b4db426c",
   "metadata": {},
   "source": [
    "#### Normal Distribution\n",
    "\n",
    "[Link to **numpy.random.normal**](https://numpy.org/doc/stable/reference/random/generated/numpy.random.normal.html)\n",
    "\n",
    "The Normal (or Gaussian) distribution is one of the most widely used and important distributions in statistical methods. It describes what very typically arises in nature where a huge number of random variations give rise to a normal range of outcomes. It is referred to as the Bell Curve as the plot of the distribution typically resembles the shape of a bell. In a normal distribution the mean, median, mode of the dataset are equal to each other and the curve is centered about the mean. Moving the mean moves the whole bell curve along the x axis. \n",
    "\n",
    "Many naturally ocurring phenonmena will fall into this type of distribution e.g.:\n",
    "- Exam test scores\n",
    "- Peoples Heights\n",
    "- Quality control, range of errors in a production process.\n",
    "\n",
    "The standard deviation is a measure of variability. It defines the width of the bell curve, i.e. how spread out the data is from the mean, the higher the standard deviation the wider the bell curve. It describes the typical distance between the data points and the average.\n",
    "\n",
    "On a graph, changing the standard deviation either tightens or spreads out the width of the distribution along the X-axis. Larger standard deviations produce bell curves that spread out further.\n",
    "\n",
    "The diagram below shows the characteristics of a Normal distribution\n",
    "- The mean, mode, and median are all equal.\n",
    "- The total area under the curve is equal to 1.\n",
    "- The curve is symmetric around the mean.\n",
    "- 68% of the data falls within one standard deviation of the mean.\n",
    "- 95% of the data falls within two standard deviations of the mean.\n",
    "- 99.7% of the data falls within three standard deviations of the mean."
   ]
  },
  {
   "cell_type": "markdown",
   "id": "c415bfc7-81c3-451c-a044-bd7f2801f068",
   "metadata": {},
   "source": [
    "![Example of a Bell Curve](https://www.askpython.com/wp-content/uploads/2020/10/Standard-deviation-around-mean.jpg.webp)"
   ]
  },
  {
   "cell_type": "markdown",
   "id": "bbc560c9-de19-44e6-9056-590c5e3d8c7b",
   "metadata": {},
   "source": [
    "![Example of a Uniform Curve](https://www.askpython.com/wp-content/uploads/2020/10/Standard-deviation-around-mean.jpg.webp)"
   ]
  },
  {
   "cell_type": "markdown",
   "id": "09427a69-76a6-4fd9-b426-b6a334a60f10",
   "metadata": {},
   "source": [
    "The code below produces a normal distribution of 1000 samples with a mean of 10 and a standard deviation of 3. It can be clearly seen how symettrical the output is with 10 in the center of the output. Increasing the number of samples brings the output closer to the perfect bell shape "
   ]
  },
  {
   "cell_type": "code",
   "execution_count": 18,
   "id": "78041976-eac0-4adc-a693-cdc8821491d4",
   "metadata": {},
   "outputs": [
    {
     "data": {
      "text/plain": [
       "<seaborn.axisgrid.FacetGrid at 0x266b6f85eb0>"
      ]
     },
     "execution_count": 18,
     "metadata": {},
     "output_type": "execute_result"
    },
    {
     "data": {
      "image/png": "[encoded data removed]",
      "text/plain": [
       "<Figure size 360x360 with 1 Axes>"
      ]
     },
     "metadata": {
      "needs_background": "light"
     },
     "output_type": "display_data"
    }
   ],
   "source": [
    "#samples = input(\"Enter number of samples:\")\n",
    "data = np.random.normal(loc=10, scale=3, size=1000)\n",
    "sns.displot(data, kde=True)"
   ]
  },
  {
   "cell_type": "markdown",
   "id": "ad662a29-cf52-45aa-9a65-19ca23347603",
   "metadata": {},
   "source": [
    "#### Uniform Distribution\n",
    "\n",
    "[Link to **numpy.random.uniform**](https://numpy.org/doc/stable/reference/random/generated/numpy.random.uniform.html)\n",
    "\n",
    "A Uniform Distribution is used to describe probability of events in a range where each event has the same chance of occurring within a given range. Each event can be considered to be independant, e.g. tossing a coin or rolling a dice, each outcome has exactly the same probability. The probability density curve approximates to a rectangle.<br>\n",
    "In numpy random this distribution takes 3 parameters, a lower bound (default 0), upper bound (default 1) and size, i.e. how many sampples are to be taken.  \n",
    "\n",
    "The image below shows the uniform distribution in the range a to b where the probability is the same for all elements in the range. "
   ]
  },
  {
   "cell_type": "markdown",
   "id": "f8832994-2e10-4edd-8314-01aefab26054",
   "metadata": {},
   "source": [
    "![Example of a Bell Curve](https://res.cloudinary.com/dyd911kmh/image/upload/c_scale,f_auto,q_auto:best,w_400/v1620756662/visualize-uniform-distribution_kpf2hb.png)"
   ]
  },
  {
   "cell_type": "code",
   "execution_count": 19,
   "id": "4422d26b-1868-40e5-8e3b-8a46b3861158",
   "metadata": {},
   "outputs": [
    {
     "data": {
      "text/plain": [
       "<seaborn.axisgrid.FacetGrid at 0x266bb29f0d0>"
      ]
     },
     "execution_count": 19,
     "metadata": {},
     "output_type": "execute_result"
    },
    {
     "data": {
      "image/png": "[encoded data removed]",
      "text/plain": [
       "<Figure size 360x360 with 1 Axes>"
      ]
     },
     "metadata": {
      "needs_background": "light"
     },
     "output_type": "display_data"
    }
   ],
   "source": [
    "# A simple example of a uniform distrinution is shown below, simulating rolling a dice 10,000 times. \n",
    "# It is clear that there is a similar number of outcomes for each number. \n",
    "values = np.random.uniform(1,6,10000) \n",
    "sns.displot(values,bins=6,kde=True)"
   ]
  },
  {
   "cell_type": "markdown",
   "id": "724996cd-0d92-427c-81e4-06b1a8636462",
   "metadata": {},
   "source": [
    "#### Binomial Distribution\n",
    "\n",
    "[Link to **numpy.random.binomial**](https://numpy.org/doc/stable/reference/random/generated/numpy.random.binomial.html)\n",
    "\n",
    "A Binomial Distribution is one where the outcome is binary, i.e. the toss of a coin, True or False, 1 or 0. Each trial must be independant and not rely on any previous trial outcomes. Although this would appear similiar to a Bernoulli Distribution, a Bernoulli deals with a single trial only whereas Binomial deals with the outcome of multiple trials, it is in effect multiple Bernoulli trails. In summary the characteristics of a Binomial Distribution are\n",
    "- A number of identical and independant trials must be carried out.\n",
    "- There can only be 2 possible outcomes.\n",
    "- The probability of success or failure is the same for all trials. \n",
    "\n",
    "In the numpy random.binomial function the the distribution takes 3 parameters, the number of trials, probability of success defined as p >=0 and p <=1 and the size of the arry to return."
   ]
  },
  {
   "cell_type": "code",
   "execution_count": 20,
   "id": "a1cb330d-892d-4f6a-a2a1-31e42bebb026",
   "metadata": {},
   "outputs": [
    {
     "data": {
      "text/plain": [
       "(array([ 0,  2,  3,  4,  5,  6,  7,  8,  9, 10]),\n",
       " array([   1,    1,    9,   58,  250,  838, 1993, 3136, 2638, 1076],\n",
       "       dtype=int64))"
      ]
     },
     "execution_count": 20,
     "metadata": {},
     "output_type": "execute_result"
    },
    {
     "data": {
      "image/png": "[encoded data removed]",
      "text/plain": [
       "<Figure size 360x360 with 1 Axes>"
      ]
     },
     "metadata": {
      "needs_background": "light"
     },
     "output_type": "display_data"
    }
   ],
   "source": [
    "#Example of a 10,000 sets of 10 trials where the probability of success is 0.8.\n",
    "# Note the distribution is skewed towards the 0.8 end of the graph, i.e. 8 success out of 10 trials. \n",
    "# The counts of the unique successful outcomes are shown, so for example where the probability of success in 10 trials is 0.8,\n",
    "# there is a very low chance of only getting 2 or 3 successes in any set of 10 trial whereas it looks like there is at least a 10% chance\n",
    "# of getting 10 out of 10. \n",
    "arr=(random.binomial(n=10, p=0.8,size=10000))\n",
    "sns.displot(arr)\n",
    "np.unique(arr, return_counts=True)"
   ]
  },
  {
   "cell_type": "code",
   "execution_count": 21,
   "id": "b7842fff-12e0-48c0-aec3-a51b0a1b0b66",
   "metadata": {},
   "outputs": [
    {
     "data": {
      "text/plain": [
       "<seaborn.axisgrid.FacetGrid at 0x266bc4b7dc0>"
      ]
     },
     "execution_count": 21,
     "metadata": {},
     "output_type": "execute_result"
    },
    {
     "data": {
      "image/png": "[encoded data removed]",
      "text/plain": [
       "<Figure size 360x360 with 1 Axes>"
      ]
     },
     "metadata": {
      "needs_background": "light"
     },
     "output_type": "display_data"
    }
   ],
   "source": [
    "#coin toss\n",
    "s=np.random.binomial(1, 0.5, 100)\n",
    "sns.displot(data=s)"
   ]
  },
  {
   "cell_type": "markdown",
   "id": "c921f307-08a5-4078-a920-f066d63d125d",
   "metadata": {},
   "source": [
    "The differsnce between a normal distribution and a binomial distribution is that a normal distribution is continuous whereas a binmoial is descrete but given enough data points the outcome can be similar"
   ]
  },
  {
   "cell_type": "code",
   "execution_count": 22,
   "id": "8ba3616d-976d-4903-a8d7-3dc992b18871",
   "metadata": {},
   "outputs": [
    {
     "data": {
      "text/plain": [
       "<seaborn.axisgrid.FacetGrid at 0x266bc4ef850>"
      ]
     },
     "execution_count": 22,
     "metadata": {},
     "output_type": "execute_result"
    },
    {
     "data": {
      "image/png": "[encoded data removed]",
      "text/plain": [
       "<Figure size 360x360 with 1 Axes>"
      ]
     },
     "metadata": {
      "needs_background": "light"
     },
     "output_type": "display_data"
    },
    {
     "data": {
      "image/png": "[encoded data removed]",
      "text/plain": [
       "<Figure size 360x360 with 1 Axes>"
      ]
     },
     "metadata": {
      "needs_background": "light"
     },
     "output_type": "display_data"
    }
   ],
   "source": [
    "sns.displot(random.normal(loc=50, scale=5, size=1000),kde=True,label='normal')\n",
    "sns.displot(random.binomial(n=100, p=0.5, size=1000),kde=True, label='binomial')"
   ]
  },
  {
   "cell_type": "markdown",
   "id": "feb97e52-9204-4fa8-ae74-12b5fe713097",
   "metadata": {},
   "source": [
    "#### Poisson Distribution\n",
    "\n",
    "[Link to **numpy.random.poisson**](https://numpy.org/doc/stable/reference/random/generated/numpy.random.poisson.html)\n",
    "\n",
    "A Poisson Distribution is a discrete probability distribution that can estimate the probability of how many times an event can happen in a specified time, the events being independant of each other, and the average or mean rate of occurrence in a specific time or space interval is known. Examples could be estimating how many customer visits happen in a specific interval when the average number of visits per hour is known.  It is a useful distribution where the average rate of events is known or can be estimated. \n",
    "\n",
    "The general assumptions for a Poisson distribution are:\n",
    "- A successful outcome of one event should not influence the outcome of another successful event.\n",
    "- The probability of success in the short term must the same as the probability in the longer term. \n",
    "- As the size of the interval tends towards 0 the probability of success also tends towards 0. \n",
    "\n",
    "numpy.random.poisson takes takes 2 parameters, **lam** being the mean rate of an occurrence in intervals of time or space and **size** being the number of returns in the array. \n"
   ]
  },
  {
   "cell_type": "code",
   "execution_count": 23,
   "id": "6be6c49e-dcb2-488c-99c4-053017511d3b",
   "metadata": {},
   "outputs": [
    {
     "data": {
      "image/png": "[encoded data removed]",
      "text/plain": [
       "<Figure size 432x288 with 1 Axes>"
      ]
     },
     "metadata": {
      "needs_background": "light"
     },
     "output_type": "display_data"
    }
   ],
   "source": [
    "\n",
    "# Random variable representing number of restaurants\n",
    "# Mean number of occurences of restaurants in 10 KM is 2\n",
    "#data=[5.0]\n",
    "a = np.random.poisson(10, 1000)\n",
    "plt.hist(a)\n",
    "plt.show()"
   ]
  },
  {
   "cell_type": "code",
   "execution_count": 35,
   "id": "041d7066-1f88-4ccc-ba1d-c4d8a51ac334",
   "metadata": {},
   "outputs": [
    {
     "data": {
      "text/plain": [
       "<matplotlib.collections.LineCollection at 0x266bc85f400>"
      ]
     },
     "execution_count": 35,
     "metadata": {},
     "output_type": "execute_result"
    },
    {
     "data": {
      "image/png": "[encoded data removed]",
      "text/plain": [
       "<Figure size 576x432 with 1 Axes>"
      ]
     },
     "metadata": {
      "needs_background": "light"
     },
     "output_type": "display_data"
    }
   ],
   "source": [
    "# Interesting example from https://vitalflux.com/poisson-distribution-explained-with-python-examples/\n",
    "# Code below is used as is from the example.\n",
    "# This shows the probability of 0, 1, 2, 3, or 4 buses arriving in the next 30 minutes when the average number per 30 minutes is 1. \n",
    "\n",
    "#The plot of the distribution shows that there is a high probabality of 0 or 1 buses arriving in next 30 minutes \n",
    "#whereas there is a very small probability of 3 or 4 buses arriving. \n",
    "\n",
    "from scipy.stats import poisson\n",
    "#\n",
    "X = [0, 1, 2, 3, 4] #Random variable representing number of buses\n",
    "lmbda = 1 #Mean number of buses coming to bus stop in 30 minutes is 1\n",
    "\n",
    "poisson_pd = poisson.pmf(X, lmbda)\n",
    "\n",
    "fig, ax = plt.subplots(1, 1, figsize=(8, 6))\n",
    "ax.plot(X, poisson_pd, 'bo', ms=8, label='poisson pmf')\n",
    "plt.ylabel(\"Probability\", fontsize=\"18\")\n",
    "plt.xlabel(\"X - No. of Buses\", fontsize=\"18\")\n",
    "plt.title(\"Poisson Distribution - No. of Buses Vs Probability\", fontsize=\"18\")\n",
    "ax.vlines(X, 0, poisson_pd)"
   ]
  },
  {
   "cell_type": "markdown",
   "id": "36bf6a78-0b0b-4e87-926b-673f4b71b667",
   "metadata": {},
   "source": [
    "#### Pareto Distribution\n",
    "\n",
    "[Link to **numpy.random.pareto**](https://numpy.org/doc/stable/reference/random/generated/numpy.random.pareto.html)\n",
    "\n",
    "Most people are familiar with the 80-20 rule, e.g. 80% of a companies revenue will be from 20% of its customers or 20% of its products or a large portion of wealth is held by a small portion of people. It is named after its originator, Vilfredo Pareto who used it to describe the distribution of wealth. Business often uses thsi distribution to identify what products, customers, markets contribute most to revenue, profits. \n",
    "\n",
    "Graphically the distribution is characterised by a tall head and a long tail, \n",
    "\n",
    "in numpy random.pareto the inputs are the shape of the distribution and the size of teh outpu"
   ]
  },
  {
   "cell_type": "code",
   "execution_count": 46,
   "id": "42fa006f-d91b-40ee-9c67-82404c9982f7",
   "metadata": {},
   "outputs": [
    {
     "data": {
      "text/plain": [
       "<seaborn.axisgrid.FacetGrid at 0x266bdf69460>"
      ]
     },
     "execution_count": 46,
     "metadata": {},
     "output_type": "execute_result"
    },
    {
     "data": {
      "image/png": "[encoded data removed]",
      "text/plain": [
       "<Figure size 360x360 with 1 Axes>"
      ]
     },
     "metadata": {
      "needs_background": "light"
     },
     "output_type": "display_data"
    }
   ],
   "source": [
    "sns.displot(random.pareto(a=10, size=1000))"
   ]
  },
  {
   "cell_type": "markdown",
   "id": "7bfac105-364a-44aa-a566-f94219ff4eba",
   "metadata": {},
   "source": [
    "### Exponential Distribution\n",
    " An exponential distribution is used to estimate the time until the next event\n"
   ]
  },
  {
   "cell_type": "code",
   "execution_count": 26,
   "id": "3c91ed41-57fe-4713-912f-492a26b3caef",
   "metadata": {},
   "outputs": [
    {
     "data": {
      "text/plain": [
       "<seaborn.axisgrid.FacetGrid at 0x266bc759610>"
      ]
     },
     "execution_count": 26,
     "metadata": {},
     "output_type": "execute_result"
    },
    {
     "data": {
      "image/png": "[encoded data removed]",
      "text/plain": [
       "<Figure size 360x360 with 1 Axes>"
      ]
     },
     "metadata": {
      "needs_background": "light"
     },
     "output_type": "display_data"
    }
   ],
   "source": [
    "sns.displot(random.exponential(size=1000))"
   ]
  },
  {
   "cell_type": "markdown",
   "id": "ac21f7ed-46c3-4be2-977a-ebcfb7f71ca3",
   "metadata": {},
   "source": [
    "### Section 4 - Use of Seeds to Generate PseudoRandom Numbers.\n",
    "As stated above pseudo-random numbers are not in fact true random numbers, in the context of numpy random they are computer generated numbers that are intended to appear random. A computer must follow a predetermined program or algorithim in order to generate these numbers and they use various techniques to produce random numbers that approximate true random numbers. \n",
    "\n",
    "One of the techniques used is the seed. In numpy the random function generates pseudo random numbers based on a seed. The seed is given some value and is used in the np.random.seed() function. \n",
    "Use of Seeds\n",
    "- What are seeds\n",
    "- why are they used\n",
    "- what does numpy.random use as default\n",
    "examples"
   ]
  },
  {
   "cell_type": "code",
   "execution_count": 27,
   "id": "5e057e44-90ee-4c3a-98e3-2859d27e0eac",
   "metadata": {},
   "outputs": [
    {
     "data": {
      "text/plain": [
       "array([5, 8, 9, 5, 0, 0, 1, 7, 6, 9])"
      ]
     },
     "execution_count": 27,
     "metadata": {},
     "output_type": "execute_result"
    }
   ],
   "source": [
    "# Example of random seed to produce a simple array. Set the seed to 1. \n",
    "# No matter how many times this is run as long as the seed remains the same the \"random\" output will be the same. \n",
    "# While not very useful for randomness using the same seed number can be useful for debugging when you want to check something using the \n",
    "# same numbers each time. \n",
    "np.random.seed(1)\n",
    "np.random.randint(0, 10, size = (10))"
   ]
  },
  {
   "cell_type": "code",
   "execution_count": 28,
   "id": "c3df2fcb-fbdb-4e14-9526-0e3c4945a1cb",
   "metadata": {},
   "outputs": [
    {
     "name": "stdout",
     "output_type": "stream",
     "text": [
      "[8 8 6 2 8 7 2 1 5 4]\n",
      "[8 8 6 2 8 7 2 1 5 4]\n",
      "[8 8 6 2 8 7 2 1 5 4]\n",
      "[8 8 6 2 8 7 2 1 5 4]\n",
      "[8 8 6 2 8 7 2 1 5 4]\n",
      "[8 8 6 2 8 7 2 1 5 4]\n",
      "[8 8 6 2 8 7 2 1 5 4]\n",
      "[8 8 6 2 8 7 2 1 5 4]\n",
      "[8 8 6 2 8 7 2 1 5 4]\n",
      "[8 8 6 2 8 7 2 1 5 4]\n"
     ]
    }
   ],
   "source": [
    "# Changing the seed will change the output, in this case it is set to 2. \n",
    "# The output is different to the one above with seed(1)\n",
    "# However note that running the code, as an example 10 times in this case, the output is the same each time. \n",
    "for i in range(10):\n",
    "    np.random.seed(2)\n",
    "    print(np.random.randint(0, 10, size = (10)))"
   ]
  },
  {
   "cell_type": "code",
   "execution_count": 29,
   "id": "d44f9672-13a7-45a0-ae93-9a9b2e7bdbc7",
   "metadata": {},
   "outputs": [
    {
     "data": {
      "text/plain": [
       "array([5, 4, 4, 7, 4, 5, 6, 8, 3, 1])"
      ]
     },
     "execution_count": 29,
     "metadata": {},
     "output_type": "execute_result"
    }
   ],
   "source": [
    "# What happens if there is no value of seed given. \n",
    "# What happens is that the seed uses a default value and that value is often generated using the computers system time as an element to generate\n",
    "# a random seed number. \n",
    "# The code below produces a different output each time the code is executed. \n",
    "np.random.seed()\n",
    "np.random.randint(0, 10, size = (10))"
   ]
  },
  {
   "cell_type": "markdown",
   "id": "3e318590-b790-4e32-8397-01ddcddbb202",
   "metadata": {},
   "source": [
    "###### Some techniques to change the seed value. \n",
    "Clearly a fixed seed is of little proctical use outside of using for debugging, below are described with examples of some techniques to generate randon seed numbers. "
   ]
  },
  {
   "cell_type": "code",
   "execution_count": 30,
   "id": "77ab7f63-1f92-4a00-88bb-0f77f05b6438",
   "metadata": {},
   "outputs": [
    {
     "name": "stdout",
     "output_type": "stream",
     "text": [
      "seed number:  43\n",
      "[4 0 1 5 0 3 1 2 7 0]\n",
      "seed number:  35\n",
      "[9 7 1 0 9 8 8 8 9 7]\n",
      "seed number:  94\n",
      "[2 0 5 3 2 6 9 8 3 6]\n",
      "seed number:  80\n",
      "[6 3 2 3 6 7 7 3 1 5]\n",
      "seed number:  64\n",
      "[4 6 7 6 6 1 4 3 5 0]\n",
      "seed number:  31\n",
      "[2 7 0 2 7 6 6 2 2 9]\n",
      "seed number:  81\n",
      "[3 1 8 3 1 1 1 3 9 4]\n",
      "seed number:  83\n",
      "[2 7 8 7 0 0 8 3 4 8]\n",
      "seed number:  4\n",
      "[7 5 1 8 7 8 2 9 7 7]\n",
      "seed number:  55\n",
      "[7 8 5 7 5 1 6 0 3 8]\n"
     ]
    }
   ],
   "source": [
    "# Use a random number as a seed, in this example using randint to generate a random number. \n",
    "# Note that a value from any random distribution can be used. \n",
    "for i in range(10):\n",
    "    seed_number=np.random.randint(0,100)\n",
    "    print(\"seed number: \",seed_number)\n",
    "    np.random.seed(seed_number)\n",
    "    print(np.random.randint(0, 10, size = 10))"
   ]
  },
  {
   "cell_type": "code",
   "execution_count": 31,
   "id": "71e142a6-5d8f-4906-a413-9bf8660f99aa",
   "metadata": {},
   "outputs": [
    {
     "name": "stdout",
     "output_type": "stream",
     "text": [
      "[9 3 6 2 5 0 9 5 9 3]\n",
      "[3 9 3 1 7 7 6 7 8 4]\n",
      "[4 2 1 3 1 4 2 4 3 6]\n",
      "[6 5 5 7 6 8 1 4 7 7]\n",
      "[8 0 8 5 2 7 9 6 9 6]\n",
      "[2 5 1 1 9 8 7 3 4 2]\n",
      "[6 6 8 3 6 8 0 2 8 9]\n",
      "[0 3 9 1 0 1 2 9 0 3]\n",
      "[7 8 8 6 7 6 2 6 7 7]\n",
      "[9 9 8 2 9 0 2 9 3 0]\n"
     ]
    }
   ],
   "source": [
    "# Dont specify any seed, in this example the default seed() is used and each time the code runs a new randon seed is generated. \n",
    "for i in range(10):\n",
    "    np.random.seed()\n",
    "    print(np.random.randint(0, 10, size = 10))"
   ]
  },
  {
   "cell_type": "code",
   "execution_count": 32,
   "id": "214ef14c-7b21-4fcb-b4c4-b09d6ed621e8",
   "metadata": {},
   "outputs": [
    {
     "ename": "NameError",
     "evalue": "name 'time' is not defined",
     "output_type": "error",
     "traceback": [
      "\u001b[1;31m---------------------------------------------------------------------------\u001b[0m",
      "\u001b[1;31mNameError\u001b[0m                                 Traceback (most recent call last)",
      "\u001b[1;32m<ipython-input-32-3763d7b54403>\u001b[0m in \u001b[0;36m<module>\u001b[1;34m\u001b[0m\n\u001b[0;32m      1\u001b[0m \u001b[1;31m# Dont specify any seed, in this example the default seed() is used and each time the code runs a new randon seed is generated.\u001b[0m\u001b[1;33m\u001b[0m\u001b[1;33m\u001b[0m\u001b[1;33m\u001b[0m\u001b[0m\n\u001b[0;32m      2\u001b[0m \u001b[1;32mimport\u001b[0m \u001b[0mdatetime\u001b[0m\u001b[1;33m\u001b[0m\u001b[1;33m\u001b[0m\u001b[0m\n\u001b[1;32m----> 3\u001b[1;33m \u001b[0mseed\u001b[0m \u001b[1;33m=\u001b[0m \u001b[0mint\u001b[0m\u001b[1;33m(\u001b[0m\u001b[0mtime\u001b[0m\u001b[1;33m.\u001b[0m\u001b[0mtime\u001b[0m\u001b[1;33m(\u001b[0m\u001b[1;33m)\u001b[0m\u001b[1;33m)\u001b[0m\u001b[1;33m\u001b[0m\u001b[1;33m\u001b[0m\u001b[0m\n\u001b[0m\u001b[0;32m      4\u001b[0m \u001b[0mnp\u001b[0m\u001b[1;33m.\u001b[0m\u001b[0mrandom\u001b[0m\u001b[1;33m.\u001b[0m\u001b[0mseed\u001b[0m\u001b[1;33m(\u001b[0m\u001b[0mseed\u001b[0m\u001b[1;33m)\u001b[0m\u001b[1;33m\u001b[0m\u001b[1;33m\u001b[0m\u001b[0m\n\u001b[0;32m      5\u001b[0m \u001b[0mprint\u001b[0m\u001b[1;33m(\u001b[0m\u001b[1;34m'Seed Time is: '\u001b[0m\u001b[1;33m,\u001b[0m\u001b[0mseed\u001b[0m\u001b[1;33m)\u001b[0m\u001b[1;33m\u001b[0m\u001b[1;33m\u001b[0m\u001b[0m\n",
      "\u001b[1;31mNameError\u001b[0m: name 'time' is not defined"
     ]
    }
   ],
   "source": [
    "# Dont specify any seed, in this example the default seed() is used and each time the code runs a new randon seed is generated. \n",
    "import datetime\n",
    "seed = int(time.time())\n",
    "np.random.seed(seed)\n",
    "print('Seed Time is: ',seed)\n",
    "print(np.random.randint(0, 10, size = 10))"
   ]
  },
  {
   "cell_type": "code",
   "execution_count": null,
   "id": "82e09cfc-b89d-4b8c-a4fb-5a1494923810",
   "metadata": {},
   "outputs": [],
   "source": [
    "# Random Shuffle is another method to produce a random output, "
   ]
  },
  {
   "cell_type": "code",
   "execution_count": null,
   "id": "8dc19357-5e51-433b-9822-597402417ae1",
   "metadata": {},
   "outputs": [],
   "source": [
    "arr = np.arange(16).reshape((4,4))\n",
    "np.random.shuffle(arr)\n",
    "arr"
   ]
  },
  {
   "cell_type": "markdown",
   "id": "fd67d9aa-e34b-4569-9697-58492fbaa622",
   "metadata": {},
   "source": [
    "## Websites"
   ]
  },
  {
   "cell_type": "markdown",
   "id": "f86be058-46b5-4f39-a640-3a0c8504ebf7",
   "metadata": {},
   "source": [
    "## References"
   ]
  }
 ],
 "metadata": {
  "kernelspec": {
   "display_name": "Python 3",
   "language": "python",
   "name": "python3"
  },
  "language_info": {
   "codemirror_mode": {
    "name": "ipython",
    "version": 3
   },
   "file_extension": ".py",
   "mimetype": "text/x-python",
   "name": "python",
   "nbconvert_exporter": "python",
   "pygments_lexer": "ipython3",
   "version": "3.8.8"
  }
 },
 "nbformat": 4,
 "nbformat_minor": 5
}
