{
 "cells": [
  {
   "cell_type": "markdown",
   "id": "5915888b-cd67-4c9f-b239-2fcfba822909",
   "metadata": {},
   "source": [
    "# An Exploration of the numpy.random package in Python\n",
    "## Submission Assignment for Programming for Data Analysis\n",
    "#### Gerry Donnelly November 2021"
   ]
  },
  {
   "cell_type": "markdown",
   "id": "c1cd9d45-44e8-4f77-a3bd-6de9e2989006",
   "metadata": {},
   "source": [
    "The purpose of this assignment is to explore the numpy.random package in Python. This exploration will address the following areas:\n",
    "1. Explain the overall purpose of the package. \n",
    "2. Explain the use of the “Simple random data” and “Permutations” functions. \n",
    "3. Explain the use and purpose of at least five “Distributions” functions. \n",
    "4. Explain the use of seeds in generating pseudorandom numbers."
   ]
  },
  {
   "cell_type": "markdown",
   "id": "947e4b2c-ba84-4d94-88ed-72844160d1cd",
   "metadata": {},
   "source": [
    "### Section 1 - Overall Purpose of the numpy.random package."
   ]
  },
  {
   "cell_type": "markdown",
   "id": "dfa16c54-5e84-403d-9c46-260f196214c8",
   "metadata": {},
   "source": [
    "- what is a random number\n",
    "https://mathworld.wolfram.com/RandomNumber.html\n",
    "A random number is a number chosen as if by chance from some specified distribution such that selection of a large set of these numbers reproduces the underlying distribution. Almost always, such numbers are also required to be independent, so that there are no correlations between successive numbers. \n",
    "\n",
    "- what is a pseudorandom number\n",
    "A sequence of numbers satisfying one or more statistical tests for randomness but produced by a definite mathematical procedure. Pseudorandom means it's produced by an algorithm that generates a series of bits that appear unpredictable, but in fact are computed from an algorithm.\n",
    "\n",
    "- what is difference\n",
    "It is very difficult to produce true randomness. Computers are by definition deterministic, i.e. they are designed to have predetermined outputs so various techniques, both hardware and software are used to produce pseudorandom numbers. \n",
    "\n",
    "- why are they important.\n",
    "Random number generation is very important in the areas of cryptography, science, ganbling, statistics.  \n",
    "- random numbers in computing.\n",
    "https://www.howtogeek.com/183051/htg-explains-how-computers-generate-random-numbers/\n",
    "Computers typically use an algorithim or program with some seed value to generate numbers that appear random but in fact are not truly random, i.e. pseudo random numbers. \n",
    "\n",
    "- Random numbers in data analysis\n",
    "\n",
    "- what is numpy\n",
    "\n",
    "https://numpy.org/doc/stable/user/whatisnumpy.html\n",
    "\n",
    "Numpy is the primary Python library for working with arrays and matrices and provides significantly faster (x50) manipulation of these than using Python lists. Numpy is designed to store its arrays in continuous memory so programs and processes can be carried out very efficiently. \n",
    "NumPy an array object of type ***ndarray*** . Numpy creates n-dimensional arrays of homogeneous data types, usually numnbers but can be strings, with the dimensions of the array called ***axes.***\n",
    "\n",
    "- what is numpy.random\n",
    "https://numpy.org/doc/stable/reference/random/index.html\n",
    "As stated above computers are designed to be deterministic, i.e. they produce fixed and repeatable outputs so the generation of random numbers is programatically produced using algorithims to create pseudorandon numbers, i.e. to give the appearance of randomness. In general these numbers are sufficient for most tasks in analytics with true randon mumbers generally needed for security, for example encryption keys. \n",
    "\n",
    "Numpys randon numbers are produced by a combination of a BitGenerator to create random number sequences and a Generator to sample from these numbers using statistical distributions, e.g. Normal, Binomial, Poisson.  These distributions will be described in section 3 of the assignment. \n",
    "\n",
    "- examples of some simple random plots\n"
   ]
  },
  {
   "cell_type": "code",
   "execution_count": 11,
   "id": "1d7788f2-18ef-46f1-9761-18838ebda8e1",
   "metadata": {},
   "outputs": [],
   "source": [
    "# Numpy.random is initiiated as follows:\n",
    "import numpy as np\n",
    "from numpy import random"
   ]
  },
  {
   "cell_type": "code",
   "execution_count": 71,
   "id": "dd81b1ec-7235-494a-b6f1-f6816a467881",
   "metadata": {},
   "outputs": [
    {
     "name": "stdout",
     "output_type": "stream",
     "text": [
      "This is a single array:\n",
      " [0.23990884 0.66923846 0.01265323 0.72533616 0.40396227 0.74303454]\n"
     ]
    }
   ],
   "source": [
    "# rand generates an array of positive random floating point numbers in the range 0 to 1, e.g. this produces 6 random numbers in a single array.\n",
    "x = random.rand(6)\n",
    "print('This is a single array:\\n',x)"
   ]
  },
  {
   "cell_type": "code",
   "execution_count": 69,
   "id": "ebb994d0-b395-4825-8401-22f1db702a45",
   "metadata": {},
   "outputs": [
    {
     "name": "stdout",
     "output_type": "stream",
     "text": [
      "This is a 6x3 array:\n",
      " [[0.35172612 0.11276622 0.40936513]\n",
      " [0.9565635  0.27675688 0.86616963]\n",
      " [0.86636129 0.33163855 0.16627187]\n",
      " [0.52469412 0.65792182 0.29556233]\n",
      " [0.46416573 0.64697301 0.61816034]\n",
      " [0.33091937 0.71136408 0.9198335 ]]\n"
     ]
    }
   ],
   "source": [
    "# rand also generates multi-dimensional arrays by specifying the optional array parameter, e.g. below produces 6 rows of 3 floats per row, a (6x3 array).\n",
    "x = random.rand(6,3)\n",
    "print('This is a 6x3 array:\\n',x)"
   ]
  },
  {
   "cell_type": "code",
   "execution_count": 73,
   "id": "5c7bbb6f-67bb-4b70-82e5-d409fadc8a7b",
   "metadata": {},
   "outputs": [
    {
     "name": "stdout",
     "output_type": "stream",
     "text": [
      "This is a single array of random integers:\n",
      " [4 2 6 3 4 2 4 1 3 6]\n"
     ]
    }
   ],
   "source": [
    "# randint produces random integers from the uniform distribution, e.g. below produces a single array of 10 random numbers from the range 1 - 6, could be used to simulate dice throws. \n",
    "rint = np.random.randint(1,7,size=(10))\n",
    "print('This is a single array of random integers:\\n',rint)"
   ]
  },
  {
   "cell_type": "code",
   "execution_count": 74,
   "id": "1c485fd9-4873-439f-81c2-64d4182dd7ef",
   "metadata": {},
   "outputs": [
    {
     "name": "stdout",
     "output_type": "stream",
     "text": [
      "This is a 2D array of 3 rows of 10 random integers:\n",
      " [[1 6 4 6 6 4 1 2 5 3]\n",
      " [6 1 5 1 3 1 4 2 4 2]\n",
      " [2 6 4 6 6 3 6 5 2 1]]\n"
     ]
    }
   ],
   "source": [
    "# randint can also produce 2D arrays, e.g. below produces a 2D array of 3 rows with 10 random numbers in each row from the range 1 - 6, could be used to simulate dice throws. \n",
    "rint1 = np.random.randint(1,7,size=(3,10))\n",
    "print('This is a 2D array of 3 rows of 10 random integers:\\n',rint1)"
   ]
  },
  {
   "cell_type": "code",
   "execution_count": 95,
   "id": "c6d39b07-8b3d-4b07-b49f-3ad44bb61a2b",
   "metadata": {},
   "outputs": [
    {
     "name": "stdout",
     "output_type": "stream",
     "text": [
      "This is a random 3x5 array selection from an array of strings:\n",
      " [['choice' 'assignment' 'random' 'choice' 'choice']\n",
      " ['assignment' 'assignment' 'assignment' 'random' 'numpy']\n",
      " ['choice' 'method' 'assignment' 'random' 'method']]\n"
     ]
    }
   ],
   "source": [
    "#Using the random choice() method allows for a random selction from that a 1D array, using an array of strings below to show that strings as well as numbers can be used in the arrays.\n",
    "rchstr = (\"numpy\",\"random\", \"assignment\", \"choice\", \"method\")\n",
    "print('This is a random 3x5 array from an array of strings:\\n',np.random.choice(rch, size=(3,5)))"
   ]
  },
  {
   "cell_type": "code",
   "execution_count": 99,
   "id": "9542dc3d-decd-46e0-bb9a-d749551d4d9a",
   "metadata": {},
   "outputs": [
    {
     "name": "stdout",
     "output_type": "stream",
     "text": [
      "This is a random 3x5 array of integers from an array of numbers:\n",
      " [[6 2 2 1 6]\n",
      " [4 6 6 5 1]\n",
      " [5 1 6 2 1]]\n"
     ]
    }
   ],
   "source": [
    "#Using the random choice() method allows for a random selction from that a 1D array, using an array of strings below to show that strings as well as numbers can be used in the arrays.\n",
    "rchint = (1,2,3,4,5,6)\n",
    "print('This is a random 3x5 array of integers from an array of numbers:\\n',np.random.choice(rchint, size=(3,5)))"
   ]
  },
  {
   "cell_type": "markdown",
   "id": "1987b59b-555c-42a9-8c79-5b9a436f5f5c",
   "metadata": {},
   "source": [
    "### Section 2 - Description and Use of Simple Random Data and Permutations Functions"
   ]
  },
  {
   "cell_type": "code",
   "execution_count": null,
   "id": "192d686e-fddd-4d1d-828d-482858de9dc7",
   "metadata": {},
   "outputs": [],
   "source": []
  },
  {
   "cell_type": "code",
   "execution_count": null,
   "id": "dd23f75a-0577-4a5b-8bf9-7da3783d2cb7",
   "metadata": {},
   "outputs": [],
   "source": []
  },
  {
   "cell_type": "code",
   "execution_count": null,
   "id": "0c8540de-7ae1-4483-b294-003bb88d3b7d",
   "metadata": {},
   "outputs": [],
   "source": []
  },
  {
   "cell_type": "markdown",
   "id": "2cf7fb9b-a59d-416f-9532-14afef24eaab",
   "metadata": {},
   "source": [
    "- What is simple random data\n",
    "    - uses\n",
    "    - examples\n",
    "\n",
    "- what are permutations\n",
    "    - uses\n",
    "    - examples"
   ]
  },
  {
   "cell_type": "code",
   "execution_count": null,
   "id": "b4c03163-718d-4aa3-a801-486c72d6a18b",
   "metadata": {},
   "outputs": [],
   "source": []
  },
  {
   "cell_type": "markdown",
   "id": "d02ce87b-3f2c-4a18-9cb1-d4e23ab77676",
   "metadata": {},
   "source": [
    "### Section 3 - Exploration of 5 Distribution functions."
   ]
  },
  {
   "cell_type": "markdown",
   "id": "910d5a84-8476-4a1a-8fb4-2a74165afbae",
   "metadata": {},
   "source": [
    "#### Distribution 1\n",
    "- description\n",
    "- uses\n",
    "- examples"
   ]
  },
  {
   "cell_type": "markdown",
   "id": "ad662a29-cf52-45aa-9a65-19ca23347603",
   "metadata": {},
   "source": [
    "#### Distribution 2\n",
    "- description\n",
    "- uses\n",
    "- examples"
   ]
  },
  {
   "cell_type": "markdown",
   "id": "724996cd-0d92-427c-81e4-06b1a8636462",
   "metadata": {},
   "source": [
    "#### Distribution 3\n",
    "- description\n",
    "- uses\n",
    "- examples"
   ]
  },
  {
   "cell_type": "markdown",
   "id": "feb97e52-9204-4fa8-ae74-12b5fe713097",
   "metadata": {},
   "source": [
    "#### Distribution 3\n",
    "- description\n",
    "- uses\n",
    "- examples"
   ]
  },
  {
   "cell_type": "markdown",
   "id": "36bf6a78-0b0b-4e87-926b-673f4b71b667",
   "metadata": {},
   "source": [
    "#### Distribution 3\n",
    "- description\n",
    "- uses\n",
    "- examples"
   ]
  },
  {
   "cell_type": "markdown",
   "id": "7bfac105-364a-44aa-a566-f94219ff4eba",
   "metadata": {},
   "source": [
    "### Section 4\n",
    "Use of Seeds\n",
    "- What are seeds\n",
    "- why are they used\n",
    "- what does numpy.random use as default\n",
    "examples"
   ]
  },
  {
   "cell_type": "code",
   "execution_count": null,
   "id": "95e7f035-b232-4247-b6b3-0f91c4c4884f",
   "metadata": {},
   "outputs": [],
   "source": []
  },
  {
   "cell_type": "code",
   "execution_count": null,
   "id": "3c91ed41-57fe-4713-912f-492a26b3caef",
   "metadata": {},
   "outputs": [],
   "source": []
  },
  {
   "cell_type": "markdown",
   "id": "ac21f7ed-46c3-4be2-977a-ebcfb7f71ca3",
   "metadata": {},
   "source": [
    "### Section 4 - Use of Seeds to Generate PseudoRandom Numbers."
   ]
  },
  {
   "cell_type": "code",
   "execution_count": null,
   "id": "5e057e44-90ee-4c3a-98e3-2859d27e0eac",
   "metadata": {},
   "outputs": [],
   "source": []
  },
  {
   "cell_type": "code",
   "execution_count": null,
   "id": "82e09cfc-b89d-4b8c-a4fb-5a1494923810",
   "metadata": {},
   "outputs": [],
   "source": []
  },
  {
   "cell_type": "code",
   "execution_count": null,
   "id": "b029d091-1693-4062-8de8-86533494de31",
   "metadata": {},
   "outputs": [],
   "source": []
  },
  {
   "cell_type": "code",
   "execution_count": null,
   "id": "8dc19357-5e51-433b-9822-597402417ae1",
   "metadata": {},
   "outputs": [],
   "source": []
  },
  {
   "cell_type": "markdown",
   "id": "fd67d9aa-e34b-4569-9697-58492fbaa622",
   "metadata": {},
   "source": [
    "## Websites"
   ]
  },
  {
   "cell_type": "markdown",
   "id": "f86be058-46b5-4f39-a640-3a0c8504ebf7",
   "metadata": {},
   "source": [
    "## References"
   ]
  }
 ],
 "metadata": {
  "kernelspec": {
   "display_name": "Python 3",
   "language": "python",
   "name": "python3"
  },
  "language_info": {
   "codemirror_mode": {
    "name": "ipython",
    "version": 3
   },
   "file_extension": ".py",
   "mimetype": "text/x-python",
   "name": "python",
   "nbconvert_exporter": "python",
   "pygments_lexer": "ipython3",
   "version": "3.8.8"
  }
 },
 "nbformat": 4,
 "nbformat_minor": 5
}
