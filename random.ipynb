{
 "cells": [
  {
   "cell_type": "markdown",
   "id": "5915888b-cd67-4c9f-b239-2fcfba822909",
   "metadata": {},
   "source": [
    "# An Exploration of the numpy.random package in Python\n",
    "## Submission Assignment for Programming for Data Analysis\n",
    "#### Gerry Donnelly November 2021"
   ]
  },
  {
   "cell_type": "markdown",
   "id": "c1cd9d45-44e8-4f77-a3bd-6de9e2989006",
   "metadata": {},
   "source": [
    "The purpose of this assignment is to explore the numpy.random package in Python. This exploration will address the following areas:\n",
    "1. Explain the overall purpose of the package. \n",
    "2. Explain the use of the “Simple random data” and “Permutations” functions. \n",
    "3. Explain the use and purpose of at least five “Distributions” functions. \n",
    "4. Explain the use of seeds in generating pseudorandom numbers."
   ]
  },
  {
   "cell_type": "markdown",
   "id": "947e4b2c-ba84-4d94-88ed-72844160d1cd",
   "metadata": {},
   "source": [
    "### Section 1 - Overall Purpose of the numpy.random package."
   ]
  },
  {
   "cell_type": "markdown",
   "id": "dfa16c54-5e84-403d-9c46-260f196214c8",
   "metadata": {},
   "source": [
    "- what is a random number\n",
    "- what is a pseudorandom number\n",
    "- what is difference\n",
    "- why are they important.\n",
    "- random numbers in computing.\n",
    "- Random numbers in data analysis\n",
    "- what is numpy\n",
    "- what is numpy.random\n",
    "- examples of some simple random plots\n"
   ]
  },
  {
   "cell_type": "code",
   "execution_count": null,
   "id": "1d7788f2-18ef-46f1-9761-18838ebda8e1",
   "metadata": {},
   "outputs": [],
   "source": []
  },
  {
   "cell_type": "markdown",
   "id": "1987b59b-555c-42a9-8c79-5b9a436f5f5c",
   "metadata": {},
   "source": [
    "### Section 2 - Description and Use of Simple Random Data and Permutations Functions"
   ]
  },
  {
   "cell_type": "markdown",
   "id": "2cf7fb9b-a59d-416f-9532-14afef24eaab",
   "metadata": {},
   "source": [
    "- What is simple random data\n",
    "    - uses\n",
    "    - examples\n",
    "\n",
    "- what are permutations\n",
    "    - uses\n",
    "    - examples"
   ]
  },
  {
   "cell_type": "code",
   "execution_count": null,
   "id": "b4c03163-718d-4aa3-a801-486c72d6a18b",
   "metadata": {},
   "outputs": [],
   "source": []
  },
  {
   "cell_type": "markdown",
   "id": "d02ce87b-3f2c-4a18-9cb1-d4e23ab77676",
   "metadata": {},
   "source": [
    "### Section 3 - Exploration of 5 Distribution functions."
   ]
  },
  {
   "cell_type": "markdown",
   "id": "910d5a84-8476-4a1a-8fb4-2a74165afbae",
   "metadata": {},
   "source": [
    "#### Distribution 1\n",
    "- description\n",
    "- uses\n",
    "- examples"
   ]
  },
  {
   "cell_type": "markdown",
   "id": "ad662a29-cf52-45aa-9a65-19ca23347603",
   "metadata": {},
   "source": [
    "#### Distribution 2\n",
    "- description\n",
    "- uses\n",
    "- examples"
   ]
  },
  {
   "cell_type": "markdown",
   "id": "724996cd-0d92-427c-81e4-06b1a8636462",
   "metadata": {},
   "source": [
    "#### Distribution 3\n",
    "- description\n",
    "- uses\n",
    "- examples"
   ]
  },
  {
   "cell_type": "markdown",
   "id": "feb97e52-9204-4fa8-ae74-12b5fe713097",
   "metadata": {},
   "source": [
    "#### Distribution 3\n",
    "- description\n",
    "- uses\n",
    "- examples"
   ]
  },
  {
   "cell_type": "markdown",
   "id": "36bf6a78-0b0b-4e87-926b-673f4b71b667",
   "metadata": {},
   "source": [
    "#### Distribution 3\n",
    "- description\n",
    "- uses\n",
    "- examples"
   ]
  },
  {
   "cell_type": "markdown",
   "id": "7bfac105-364a-44aa-a566-f94219ff4eba",
   "metadata": {},
   "source": [
    "### Section 4\n",
    "Use of Seeds\n",
    "- What are seeds\n",
    "- why are they used\n",
    "- what does numpy.random use as default\n",
    "examples"
   ]
  },
  {
   "cell_type": "code",
   "execution_count": null,
   "id": "95e7f035-b232-4247-b6b3-0f91c4c4884f",
   "metadata": {},
   "outputs": [],
   "source": []
  },
  {
   "cell_type": "code",
   "execution_count": null,
   "id": "3c91ed41-57fe-4713-912f-492a26b3caef",
   "metadata": {},
   "outputs": [],
   "source": []
  },
  {
   "cell_type": "markdown",
   "id": "ac21f7ed-46c3-4be2-977a-ebcfb7f71ca3",
   "metadata": {},
   "source": [
    "### Section 4 - Use of Seeds to Generate PseudoRandom Numbers."
   ]
  },
  {
   "cell_type": "code",
   "execution_count": null,
   "id": "5e057e44-90ee-4c3a-98e3-2859d27e0eac",
   "metadata": {},
   "outputs": [],
   "source": []
  },
  {
   "cell_type": "code",
   "execution_count": null,
   "id": "82e09cfc-b89d-4b8c-a4fb-5a1494923810",
   "metadata": {},
   "outputs": [],
   "source": []
  },
  {
   "cell_type": "code",
   "execution_count": null,
   "id": "b029d091-1693-4062-8de8-86533494de31",
   "metadata": {},
   "outputs": [],
   "source": []
  },
  {
   "cell_type": "code",
   "execution_count": null,
   "id": "8dc19357-5e51-433b-9822-597402417ae1",
   "metadata": {},
   "outputs": [],
   "source": []
  },
  {
   "cell_type": "markdown",
   "id": "fd67d9aa-e34b-4569-9697-58492fbaa622",
   "metadata": {},
   "source": [
    "## Websites"
   ]
  },
  {
   "cell_type": "markdown",
   "id": "f86be058-46b5-4f39-a640-3a0c8504ebf7",
   "metadata": {},
   "source": [
    "## References"
   ]
  }
 ],
 "metadata": {
  "kernelspec": {
   "display_name": "Python 3",
   "language": "python",
   "name": "python3"
  },
  "language_info": {
   "codemirror_mode": {
    "name": "ipython",
    "version": 3
   },
   "file_extension": ".py",
   "mimetype": "text/x-python",
   "name": "python",
   "nbconvert_exporter": "python",
   "pygments_lexer": "ipython3",
   "version": "3.8.8"
  }
 },
 "nbformat": 4,
 "nbformat_minor": 5
}
